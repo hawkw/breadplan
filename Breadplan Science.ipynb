{
 "metadata": {
  "name": ""
 },
 "nbformat": 3,
 "nbformat_minor": 0,
 "worksheets": [
  {
   "cells": [
    {
     "cell_type": "markdown",
     "metadata": {},
     "source": [
      "# BreadPlan Science!\n",
      "\n",
      "This is where I'm doing the calculations that go into BreadPlan\n"
     ]
    },
    {
     "cell_type": "code",
     "collapsed": false,
     "input": [
      "# Densities for flour types in grams/cup according to different sources\n",
      "# USDA and Gold Medal from http://www.weekendbakery.com/cooking-conversions/\n",
      "# King Arthur from http://www.kingarthurflour.com/recipe/master-weight-chart.html \n",
      "# (rounded to nearest gram)\n",
      "whole_wheat = {\n",
      "               \"USDA\": 125,\n",
      "               \"Gold Medal\": 128,\n",
      "               \"King Arthur\": 113,\n",
      "               }\n",
      "all_purpose = {\n",
      "               \"USDA\": 125,\n",
      "               \"Gold Medal\": 130,\n",
      "               \"King Arthur\": 120\n",
      "               }\n",
      "bread_flour = {\n",
      "               \"USDA\": 127,\n",
      "               \"Gold Medal\": 135,\n",
      "               \"King Arthur\": 120\n",
      "               }\n",
      "rye         = {\n",
      "               \"USDA\": 102,\n",
      "                # couldn't find Gold Medal's reported density for rye flour (do they make it?)\n",
      "               \"King Arthur Medium Rye\": 103,\n",
      "               \"King Arthur White Rye\": 106\n",
      "               }"
     ],
     "language": "python",
     "metadata": {},
     "outputs": [],
     "prompt_number": 19
    },
    {
     "cell_type": "code",
     "collapsed": false,
     "input": [
      "import numpy"
     ],
     "language": "python",
     "metadata": {},
     "outputs": [],
     "prompt_number": 4
    },
    {
     "cell_type": "code",
     "collapsed": false,
     "input": [
      "values = lambda flour: [grams for key, grams in flour.iteritems() if key not in [\"average\", \"std\"]]"
     ],
     "language": "python",
     "metadata": {},
     "outputs": [],
     "prompt_number": 24
    },
    {
     "cell_type": "code",
     "collapsed": false,
     "input": [
      "# Compute average density\n",
      "whole_wheat[\"average\"] = numpy.mean(values(whole_wheat))\n",
      "all_purpose[\"average\"] = numpy.mean(values(all_purpose))\n",
      "bread_flour[\"average\"] = numpy.mean(values(bread_flour))\n",
      "rye[\"average\"] = numpy.mean(values(rye))"
     ],
     "language": "python",
     "metadata": {},
     "outputs": [],
     "prompt_number": 25
    },
    {
     "cell_type": "code",
     "collapsed": false,
     "input": [
      "# Compute standard deviations\n",
      "whole_wheat[\"std\"] = numpy.std(values(whole_wheat))\n",
      "all_purpose[\"std\"] = numpy.std(values(all_purpose))\n",
      "bread_flour[\"std\"] = numpy.std(values(bread_flour))\n",
      "rye[\"std\"] = numpy.std(values(rye))"
     ],
     "language": "python",
     "metadata": {},
     "outputs": [],
     "prompt_number": 26
    },
    {
     "cell_type": "code",
     "collapsed": false,
     "input": [
      "whole_wheat"
     ],
     "language": "python",
     "metadata": {},
     "outputs": [
      {
       "metadata": {},
       "output_type": "pyout",
       "prompt_number": 27,
       "text": [
        "{'Gold Medal': 128,\n",
        " 'King Arthur': 113,\n",
        " 'USDA': 125,\n",
        " 'average': 122.0,\n",
        " 'std': 6.4807406984078604}"
       ]
      }
     ],
     "prompt_number": 27
    },
    {
     "cell_type": "code",
     "collapsed": false,
     "input": [
      "all_purpose"
     ],
     "language": "python",
     "metadata": {},
     "outputs": [
      {
       "metadata": {},
       "output_type": "pyout",
       "prompt_number": 28,
       "text": [
        "{'Gold Medal': 130,\n",
        " 'King Arthur': 120,\n",
        " 'USDA': 125,\n",
        " 'average': 125.0,\n",
        " 'std': 4.0824829046386304}"
       ]
      }
     ],
     "prompt_number": 28
    },
    {
     "cell_type": "code",
     "collapsed": false,
     "input": [
      "bread_flour"
     ],
     "language": "python",
     "metadata": {},
     "outputs": [
      {
       "metadata": {},
       "output_type": "pyout",
       "prompt_number": 29,
       "text": [
        "{'Gold Medal': 135,\n",
        " 'King Arthur': 120,\n",
        " 'USDA': 127,\n",
        " 'average': 127.33333333333333,\n",
        " 'std': 6.1282587702834119}"
       ]
      }
     ],
     "prompt_number": 29
    },
    {
     "cell_type": "code",
     "collapsed": false,
     "input": [
      "rye"
     ],
     "language": "python",
     "metadata": {},
     "outputs": [
      {
       "metadata": {},
       "output_type": "pyout",
       "prompt_number": 30,
       "text": [
        "{'King Arthur Medium Rye': 103,\n",
        " 'King Arthur White Rye': 106,\n",
        " 'USDA': 102,\n",
        " 'average': 103.66666666666667,\n",
        " 'std': 1.699673171197595}"
       ]
      }
     ],
     "prompt_number": 30
    },
    {
     "cell_type": "code",
     "collapsed": false,
     "input": [],
     "language": "python",
     "metadata": {},
     "outputs": []
    }
   ],
   "metadata": {}
  }
 ]
}